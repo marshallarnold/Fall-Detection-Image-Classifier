{
  "nbformat": 4,
  "nbformat_minor": 0,
  "metadata": {
    "colab": {
      "provenance": [],
      "authorship_tag": "ABX9TyO3cg2NvOmrmCRFP+uoT/Ge",
      "include_colab_link": true
    },
    "kernelspec": {
      "name": "python3",
      "display_name": "Python 3"
    },
    "language_info": {
      "name": "python"
    }
  },
  "cells": [
    {
      "cell_type": "markdown",
      "metadata": {
        "id": "view-in-github",
        "colab_type": "text"
      },
      "source": [
        "<a href=\"https://colab.research.google.com/github/marshallarnold/Fall-Detection-Image-Classifier/blob/main/falldetection.ipynb\" target=\"_parent\"><img src=\"https://colab.research.google.com/assets/colab-badge.svg\" alt=\"Open In Colab\"/></a>"
      ]
    },
    {
      "cell_type": "code",
      "execution_count": 4,
      "metadata": {
        "colab": {
          "base_uri": "https://localhost:8080/"
        },
        "id": "R8ORaQ_mMtO1",
        "outputId": "6199c63b-e1c8-4a06-cc9f-5fea591e6336"
      },
      "outputs": [
        {
          "output_type": "stream",
          "name": "stdout",
          "text": [
            "Found 909 images belonging to 2 classes.\n",
            "Found 51 images belonging to 2 classes.\n",
            "Found 101 images belonging to 2 classes.\n"
          ]
        }
      ],
      "source": [
        "import tensorflow as tf\n",
        "from tensorflow.keras import layers, models\n",
        "from tensorflow.keras.preprocessing.image import ImageDataGenerator\n",
        "from tensorflow.keras.callbacks import EarlyStopping\n",
        "\n",
        "train_dir = '/content/train'\n",
        "test_dir = '/content/test'\n",
        "valid_dir = '/content/valid'\n",
        "\n",
        "train_datagen = ImageDataGenerator(rescale=1/255,\n",
        "    rotation_range=20,\n",
        "    width_shift_range=0.2,\n",
        "    height_shift_range=0.2,\n",
        "    zoom_range=0.2,\n",
        "    horizontal_flip=True,\n",
        "    fill_mode='nearest')\n",
        "\n",
        "test_datagen = ImageDataGenerator(rescale=1/255)\n",
        "\n",
        "valid_datagen = ImageDataGenerator(rescale=1/255)\n",
        "\n",
        "batch_size = 32\n",
        "class_mode = 'binary'\n",
        "\n",
        "train_data = train_datagen.flow_from_directory(train_dir, batch_size = batch_size,\n",
        "            target_size = (224,224), class_mode = class_mode)\n",
        "test_data = test_datagen.flow_from_directory(test_dir, batch_size = batch_size,\n",
        "            target_size = (224,224), class_mode = class_mode, shuffle = False)\n",
        "valid_data = valid_datagen.flow_from_directory(valid_dir, batch_size = batch_size,\n",
        "            target_size = (224,224), class_mode = class_mode)"
      ]
    },
    {
      "cell_type": "code",
      "source": [],
      "metadata": {
        "id": "gEwVFTgCOK12"
      },
      "execution_count": null,
      "outputs": []
    }
  ]
}