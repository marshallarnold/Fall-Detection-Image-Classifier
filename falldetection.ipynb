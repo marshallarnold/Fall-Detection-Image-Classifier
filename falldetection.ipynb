{
  "nbformat": 4,
  "nbformat_minor": 0,
  "metadata": {
    "colab": {
      "provenance": [],
      "authorship_tag": "ABX9TyOPzMRag/BvdEmqosZzjb22",
      "include_colab_link": true
    },
    "kernelspec": {
      "name": "python3",
      "display_name": "Python 3"
    },
    "language_info": {
      "name": "python"
    }
  },
  "cells": [
    {
      "cell_type": "markdown",
      "metadata": {
        "id": "view-in-github",
        "colab_type": "text"
      },
      "source": [
        "<a href=\"https://colab.research.google.com/github/marshallarnold/Fall-Detection-Image-Classifier/blob/main/falldetection.ipynb\" target=\"_parent\"><img src=\"https://colab.research.google.com/assets/colab-badge.svg\" alt=\"Open In Colab\"/></a>"
      ]
    },
    {
      "cell_type": "code",
      "execution_count": 4,
      "metadata": {
        "colab": {
          "base_uri": "https://localhost:8080/"
        },
        "id": "R8ORaQ_mMtO1",
        "outputId": "6199c63b-e1c8-4a06-cc9f-5fea591e6336"
      },
      "outputs": [
        {
          "output_type": "stream",
          "name": "stdout",
          "text": [
            "Found 909 images belonging to 2 classes.\n",
            "Found 51 images belonging to 2 classes.\n",
            "Found 101 images belonging to 2 classes.\n"
          ]
        }
      ],
      "source": [
        "import tensorflow as tf\n",
        "from tensorflow.keras import layers, models\n",
        "from tensorflow.keras.preprocessing.image import ImageDataGenerator\n",
        "from tensorflow.keras.callbacks import EarlyStopping\n",
        "\n",
        "train_dir = '/content/train'\n",
        "test_dir = '/content/test'\n",
        "valid_dir = '/content/valid'\n",
        "\n",
        "train_datagen = ImageDataGenerator(rescale=1/255,\n",
        "    rotation_range=20,\n",
        "    width_shift_range=0.2,\n",
        "    height_shift_range=0.2,\n",
        "    zoom_range=0.2,\n",
        "    horizontal_flip=True,\n",
        "    fill_mode='nearest')\n",
        "\n",
        "test_datagen = ImageDataGenerator(rescale=1/255)\n",
        "\n",
        "valid_datagen = ImageDataGenerator(rescale=1/255)\n",
        "\n",
        "batch_size = 32\n",
        "class_mode = 'binary'\n",
        "\n",
        "train_data = train_datagen.flow_from_directory(train_dir, batch_size = batch_size,\n",
        "            target_size = (224,224), class_mode = class_mode)\n",
        "test_data = test_datagen.flow_from_directory(test_dir, batch_size = batch_size,\n",
        "            target_size = (224,224), class_mode = class_mode, shuffle = False)\n",
        "valid_data = valid_datagen.flow_from_directory(valid_dir, batch_size = batch_size,\n",
        "            target_size = (224,224), class_mode = class_mode)"
      ]
    },
    {
      "cell_type": "code",
      "source": [
        "model = models.Sequential([\n",
        "    layers.Conv2D(16, (3,3), activation= 'relu', input_shape = (224,224,3)),\n",
        "    layers.MaxPooling2D(2,2),\n",
        "    layers.BatchNormalization(),\n",
        "\n",
        "    layers.Conv2D(32, (3,3), activation= 'relu'),\n",
        "    layers.MaxPooling2D(2,2),\n",
        "    layers.BatchNormalization(),\n",
        "\n",
        "    layers.Conv2D(64, (3,3), activation= 'relu'),\n",
        "    layers.MaxPooling2D(2,2),\n",
        "    layers.BatchNormalization(),\n",
        "\n",
        "    layers.Flatten(),\n",
        "    layers.Dense(128, activation='relu'),\n",
        "    layers.Dropout(0.5),\n",
        "    layers.Dense(1, activation='sigmoid')\n",
        "])"
      ],
      "metadata": {
        "colab": {
          "base_uri": "https://localhost:8080/"
        },
        "id": "gEwVFTgCOK12",
        "outputId": "808d1182-a971-4f75-8150-f53d6f58042b"
      },
      "execution_count": 5,
      "outputs": [
        {
          "output_type": "stream",
          "name": "stderr",
          "text": [
            "/usr/local/lib/python3.12/dist-packages/keras/src/layers/convolutional/base_conv.py:113: UserWarning: Do not pass an `input_shape`/`input_dim` argument to a layer. When using Sequential models, prefer using an `Input(shape)` object as the first layer in the model instead.\n",
            "  super().__init__(activity_regularizer=activity_regularizer, **kwargs)\n"
          ]
        }
      ]
    }
  ]
}